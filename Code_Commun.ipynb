{
 "cells": [
  {
   "cell_type": "code",
   "execution_count": null,
   "id": "4bb5a66b-fad7-44e9-8a69-163514ed9981",
   "metadata": {},
   "outputs": [],
   "source": [
    "# ================================================================  Ce notebook trace le code commun aux notebooks des régions traité par les personnes du groupe ====================================================================\n",
    "# Méthodologie de travail\n",
    "# Nous nous sommes répartis l'Australie en fonction des découpages administratif en régions :\n",
    "# New South Wales, Queensland, Northern Territory, Western Australia, South Australia, Victoria and Tasmania.\n",
    "# Chaque personne a procédé à l'entrainement de sa ou ses régions\n",
    "# Une personne de l'équipe a procédé à l'entrainement sur toutes les données de l'Australie\n",
    "# Nous avons mutualisé nos résultats et avons fait le choix du meilleur modèle\n",
    "# ===================================================================================================================================="
   ]
  },
  {
   "cell_type": "code",
   "execution_count": null,
   "id": "75425f46-c88e-4135-bf59-74c08e96748b",
   "metadata": {},
   "outputs": [],
   "source": [
    "# ================================================================ Les modules ========================================================================================="
   ]
  },
  {
   "cell_type": "code",
   "execution_count": 12,
   "id": "34ce39cb-178f-4403-adc9-c1059295a51e",
   "metadata": {},
   "outputs": [],
   "source": [
    "import pandas as pd\n",
    "import numpy as np\n",
    "import matplotlib\n",
    "import matplotlib.pyplot as plt\n",
    "%matplotlib inline\n",
    "from sklearn.preprocessing import StandardScaler\n",
    "from sklearn import model_selection\n",
    "from sklearn.model_selection import train_test_split\n",
    "from sklearn import linear_model\n",
    "from sklearn.linear_model import LogisticRegression\n",
    "from sklearn.metrics import classification_report\n",
    "from imblearn.metrics import classification_report_imbalanced\n",
    "from imblearn.over_sampling import RandomOverSampler\n",
    "from sklearn import neighbors\n",
    "from sklearn import ensemble\n",
    "from sklearn.model_selection import GridSearchCV\n",
    "import seaborn as sns\n",
    "from sklearn import preprocessing\n",
    "from sklearn import linear_model\n",
    "from sklearn.metrics import precision_score, recall_score, f1_score\n",
    "from sklearn.metrics import accuracy_score"
   ]
  },
  {
   "cell_type": "code",
   "execution_count": null,
   "id": "edd931b9-0366-43d3-8d9d-6644b7143eec",
   "metadata": {},
   "outputs": [],
   "source": [
    "# ======================================================================================================================================================================="
   ]
  },
  {
   "cell_type": "code",
   "execution_count": null,
   "id": "a5d98c28-454d-46c2-a538-a1514da02902",
   "metadata": {},
   "outputs": [],
   "source": [
    "# # Avant de commencer la modélisation, il faut apporter encore quelques modifications au fichier de base:\n",
    "# 1) Remplacer les Yes, No des variables RainToday et RainTomorrow par 1 et 0 respectivement\n",
    "# 2) remplacer la variable WindGustDir par des variables indicatrices et supprimer la colonne WindGustDirStr\n",
    "# 3 appliquer une standardisation des variables numériques"
   ]
  },
  {
   "cell_type": "code",
   "execution_count": 9,
   "id": "0910b71c-2621-4be3-9242-e8ea41e52a34",
   "metadata": {},
   "outputs": [],
   "source": [
    "# ===== Fonction de remplacement du RainToday & RainTomorrow\n",
    "def ReplaceRain(dataframe):\n",
    "    dataframe['RainToday'] = dataframe['RainToday'].replace (to_replace = ['Yes','No'], value = [1,0])\n",
    "    dataframe['RainTomorrow'] = dataframe['RainTomorrow'].replace (to_replace = ['Yes','No'], value = [1,0])\n",
    "    print(\"Variables remplacées\")"
   ]
  },
  {
   "cell_type": "code",
   "execution_count": 7,
   "id": "8a4f5ba6-fb59-4bcb-b7d3-969da254e4a5",
   "metadata": {},
   "outputs": [],
   "source": [
    "# ==== Remplacement de variable passée en paramètre par des variables indicatrices\n",
    "def GetDummies(dataframe, variable):\n",
    "    dummies = pd.get_dummies(dataframe[variable])\n",
    "    dataframe = pd.concat([dataframe,dummies], axis = 1)\n",
    "    dataframe=dataframe.drop(variable, axis = 1)\n",
    "    return dataframe"
   ]
  },
  {
   "cell_type": "code",
   "execution_count": null,
   "id": "48f93217-8d34-4a97-ae8d-5d901bab4f69",
   "metadata": {},
   "outputs": [],
   "source": [
    "# ==== Ex Appel de la fonction GetDummies\n",
    "#df_wa=GetDummies(df_wa,'Location')\n",
    "#df_wa=GetDummies(df_wa,'WindGustDir')"
   ]
  },
  {
   "cell_type": "code",
   "execution_count": 8,
   "id": "3364a9a3-0574-4062-99cb-60ec03991b2c",
   "metadata": {},
   "outputs": [],
   "source": [
    "# ====== Standardisation des variables\n",
    "def Standardise(dataframe,colonnes):\n",
    "    scaler = StandardScaler()\n",
    "    dataframe[colonnes]= scaler.fit_transform(dataframe[colonnes])\n",
    "    return dataframe[colonnes]"
   ]
  },
  {
   "cell_type": "code",
   "execution_count": null,
   "id": "a9c8af4d-05e9-4c1d-976e-9f997592aac7",
   "metadata": {},
   "outputs": [],
   "source": [
    "# ==== Ex Appel de la fonction Standardise\n",
    "#df_wa_std[num] = Standardise(df_wa_std,num)"
   ]
  },
  {
   "cell_type": "code",
   "execution_count": null,
   "id": "70de58ba-aa10-44ce-ad23-1f4c126fdafd",
   "metadata": {},
   "outputs": [],
   "source": []
  }
 ],
 "metadata": {
  "kernelspec": {
   "display_name": "Python 3 (ipykernel)",
   "language": "python",
   "name": "python3"
  },
  "language_info": {
   "codemirror_mode": {
    "name": "ipython",
    "version": 3
   },
   "file_extension": ".py",
   "mimetype": "text/x-python",
   "name": "python",
   "nbconvert_exporter": "python",
   "pygments_lexer": "ipython3",
   "version": "3.10.2"
  }
 },
 "nbformat": 4,
 "nbformat_minor": 5
}
